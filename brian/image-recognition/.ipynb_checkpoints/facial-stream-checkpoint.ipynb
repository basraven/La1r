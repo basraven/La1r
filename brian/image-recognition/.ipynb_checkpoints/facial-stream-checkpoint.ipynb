{
 "cells": [
  {
   "cell_type": "markdown",
   "metadata": {},
   "source": [
    "# Facial stream\n",
    "This notebook takes an input image url or video stream url and recognizes faces\n",
    "\n",
    "* Inputs\n",
    "    * Kafka or MQTT event with:\n",
    "        * image url\n",
    "        * video stream url\n",
    "        * image absolute location (will be implemented later)\n",
    "* Outputs\n",
    "    * New event on Kafka or MQTT topic\n",
    "        \n"
   ]
  },
  {
   "cell_type": "code",
   "execution_count": 6,
   "metadata": {},
   "outputs": [
    {
     "name": "stdout",
     "output_type": "stream",
     "text": [
      "Image is the source: True\n"
     ]
    }
   ],
   "source": [
    "# Settings\n",
    "\n",
    "# Targeted location, either one of these\n",
    "image_location = \"test1.jpg\"\n",
    "video_stream = \"\"\n",
    "\n",
    "target_is_image = True\n",
    "if image_location == \"\":\n",
    "    \n",
    "    target_is_image = False\n",
    "    \n",
    "# Face storage\n",
    "known_face_encodings = []\n",
    "known_face_names = [\"0\"]\n",
    "    \n",
    "# Print settings summary\n",
    "print(\"Image is the source: %s\" % target_is_image)"
   ]
  },
  {
   "cell_type": "code",
   "execution_count": 7,
   "metadata": {},
   "outputs": [
    {
     "name": "stdout",
     "output_type": "stream",
     "text": [
      "0\n",
      "0\n",
      "0\n",
      "0\n",
      "0\n",
      "0\n",
      "0\n",
      "0\n",
      "0\n",
      "0\n"
     ]
    },
    {
     "ename": "ValueError",
     "evalue": "The truth value of an array with more than one element is ambiguous. Use a.any() or a.all()",
     "output_type": "error",
     "traceback": [
      "\u001b[1;31m---------------------------------------------------------------------------\u001b[0m",
      "\u001b[1;31mValueError\u001b[0m                                Traceback (most recent call last)",
      "\u001b[1;32m<ipython-input-7-bb77281d3812>\u001b[0m in \u001b[0;36m<module>\u001b[1;34m\u001b[0m\n\u001b[0;32m     69\u001b[0m             \u001b[1;32mfor\u001b[0m \u001b[0mface_encoding\u001b[0m \u001b[1;32min\u001b[0m \u001b[0mface_encodings\u001b[0m\u001b[1;33m:\u001b[0m\u001b[1;33m\u001b[0m\u001b[1;33m\u001b[0m\u001b[0m\n\u001b[0;32m     70\u001b[0m \u001b[1;33m\u001b[0m\u001b[0m\n\u001b[1;32m---> 71\u001b[1;33m                 \u001b[1;32mif\u001b[0m \u001b[0mface_encoding\u001b[0m \u001b[1;32mnot\u001b[0m \u001b[1;32min\u001b[0m \u001b[0mknown_face_encodings\u001b[0m\u001b[1;33m:\u001b[0m\u001b[1;33m\u001b[0m\u001b[1;33m\u001b[0m\u001b[0m\n\u001b[0m\u001b[0;32m     72\u001b[0m                     \u001b[0mknown_face_encodings\u001b[0m\u001b[1;33m.\u001b[0m\u001b[0mappend\u001b[0m\u001b[1;33m(\u001b[0m\u001b[0mface_encoding\u001b[0m\u001b[1;33m)\u001b[0m\u001b[1;33m\u001b[0m\u001b[1;33m\u001b[0m\u001b[0m\n\u001b[0;32m     73\u001b[0m                     \u001b[0mknown_face_names\u001b[0m\u001b[1;33m.\u001b[0m\u001b[0mappend\u001b[0m\u001b[1;33m(\u001b[0m\u001b[0munknown_id\u001b[0m\u001b[1;33m)\u001b[0m\u001b[1;33m\u001b[0m\u001b[1;33m\u001b[0m\u001b[0m\n",
      "\u001b[1;31mValueError\u001b[0m: The truth value of an array with more than one element is ambiguous. Use a.any() or a.all()"
     ]
    }
   ],
   "source": [
    "# Imports\n",
    "import face_recognition\n",
    "image = face_recognition.load_image_file(image_location)\n",
    "face_locations = face_recognition.face_locations(image)\n",
    "face_landmarks_list = face_recognition.face_landmarks(image)\n",
    "\n",
    "import face_recognition\n",
    "import cv2\n",
    "import numpy as np\n",
    "\n",
    "# This is a super simple (but slow) example of running face recognition on live video from your webcam.\n",
    "# There's a second example that's a little more complicated but runs faster.\n",
    "\n",
    "# PLEASE NOTE: This example requires OpenCV (the `cv2` library) to be installed only to read from your webcam.\n",
    "# OpenCV is *not* required to use the face_recognition library. It's only required if you want to run this\n",
    "# specific demo. If you have trouble installing it, try any of the other demos that don't require it instead.\n",
    "\n",
    "# Get a reference to webcam #0 (the default one)\n",
    "video_capture = cv2.VideoCapture(0)\n",
    "\n",
    "# # Load a sample picture and learn how to recognize it.\n",
    "# obama_image = face_recognition.load_image_file(\"test1.jpg\")\n",
    "# obama_face_encoding = face_recognition.face_encodings(obama_image)[0]\n",
    "\n",
    "# # Load a second sample picture and learn how to recognize it.\n",
    "# biden_image = face_recognition.load_image_file(\"test1.jpg\")\n",
    "# biden_face_encoding = face_recognition.face_encodings(biden_image)[0]\n",
    "\n",
    "# # Create arrays of known face encodings and their names\n",
    "# known_face_encodings = [\n",
    "#     obama_face_encoding,\n",
    "#     biden_face_encoding\n",
    "# ]\n",
    "# known_face_names = [\n",
    "#     \"Bas\",\n",
    "#     \"Stephanie\"\n",
    "# ]\n",
    "\n",
    "# print(obama_face_encoding)\n",
    "\n",
    "unknown_id = 1\n",
    "\n",
    "while True:\n",
    "    # Grab a single frame of video\n",
    "    ret, frame = video_capture.read()\n",
    "\n",
    "    # Convert the image from BGR color (which OpenCV uses) to RGB color (which face_recognition uses)\n",
    "    rgb_frame = frame[:, :, ::-1]\n",
    "\n",
    "    # Find all the faces and face enqcodings in the frame of video\n",
    "    face_locations = face_recognition.face_locations(rgb_frame)\n",
    "    face_encodings = face_recognition.face_encodings(rgb_frame, face_locations)\n",
    "#     if len(face_encodings) > 0:\n",
    "        \n",
    "#         print(len(face_encodings))\n",
    "\n",
    "    # Loop through each face in this frame of video\n",
    "    for (top, right, bottom, left), face_encoding in zip(face_locations, face_encodings):\n",
    "        # See if the face is a match for the known face(s)\n",
    "        matches = face_recognition.compare_faces(known_face_encodings, face_encoding)\n",
    "        name = \"Unknown\"\n",
    "\n",
    "#         If a match was found in known_face_encodings, just use the first one.\n",
    "        if True in matches:\n",
    "            first_match_index = matches.index(True)\n",
    "            name = known_face_names[first_match_index]\n",
    "            print(name)\n",
    "        else: # If no matches\n",
    "            for face_encoding in face_encodings:\n",
    "                known_face_encodings.append(face_encoding)\n",
    "                known_face_names.append(unknown_id)\n",
    "                unknown_id += 1\n",
    "        if name != 'Unknown':\n",
    "            print(name)\n",
    "\n",
    "        # Or instead, use the known face with the smallest distance to the new face\n",
    "#         face_distances = face_recognition.face_distance(known_face_encodings, face_encoding)\n",
    "#         best_match_index = np.argmin(face_distances)\n",
    "#         if matches[best_match_index]:\n",
    "#             name = known_face_names[best_match_index]\n",
    "\n",
    "#         # Draw a box around the face\n",
    "#         cv2.rectangle(frame, (left, top), (right, bottom), (0, 0, 255), 2)\n",
    "\n",
    "#         # Draw a label with a name below the face\n",
    "#         cv2.rectangle(frame, (left, bottom - 35), (right, bottom), (0, 0, 255), cv2.FILLED)\n",
    "#         font = cv2.FONT_HERSHEY_DUPLEX\n",
    "#         cv2.putText(frame, name, (left + 6, bottom - 6), font, 1.0, (255, 255, 255), 1)\n",
    "            \n",
    "            \n",
    "\n",
    "#     # Display the resulting image\n",
    "# #     cv2.imshow('Video', frame)\n",
    "\n",
    "# #     # Hit 'q' on the keyboard to quit!\n",
    "#     if cv2.waitKey(1) & 0xFF == ord('q'):\n",
    "#         break\n",
    "\n",
    "# # Release handle to the webcam\n",
    "# video_capture.release()\n",
    "# cv2.destroyAllWindows()"
   ]
  },
  {
   "cell_type": "code",
   "execution_count": null,
   "metadata": {},
   "outputs": [],
   "source": [
    "import cv2\n",
    "# Release handle to the webcam\n",
    "video_capture.release()\n",
    "cv2.destroyAllWindows()"
   ]
  }
 ],
 "metadata": {
  "kernelspec": {
   "display_name": "Python 3",
   "language": "python",
   "name": "python3"
  },
  "language_info": {
   "codemirror_mode": {
    "name": "ipython",
    "version": 3
   },
   "file_extension": ".py",
   "mimetype": "text/x-python",
   "name": "python",
   "nbconvert_exporter": "python",
   "pygments_lexer": "ipython3",
   "version": "3.7.3"
  }
 },
 "nbformat": 4,
 "nbformat_minor": 2
}
